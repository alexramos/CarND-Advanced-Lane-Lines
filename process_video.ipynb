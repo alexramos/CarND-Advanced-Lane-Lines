{
 "cells": [
  {
   "cell_type": "markdown",
   "metadata": {},
   "source": [
    "# Advanced Lane Finding Project - Notebook 2"
   ]
  },
  {
   "cell_type": "code",
   "execution_count": 12,
   "metadata": {
    "collapsed": true
   },
   "outputs": [],
   "source": [
    "from pathlib import Path\n",
    "import os.path as osp\n",
    "import glob\n",
    "import pickle\n",
    "\n",
    "from IPython.core.interactiveshell import InteractiveShell\n",
    "InteractiveShell.ast_node_interactivity = \"all\"\n",
    "import numpy as np\n",
    "import pandas as pd\n",
    "import matplotlib.pyplot as plt\n",
    "import cv2\n",
    "%matplotlib inline\n",
    "%config InlineBackend.figure_format = 'retina'\n",
    "\n",
    "from moviepy.editor import VideoFileClip\n",
    "from IPython.display import HTML"
   ]
  },
  {
   "cell_type": "code",
   "execution_count": 177,
   "metadata": {
    "collapsed": true
   },
   "outputs": [],
   "source": [
    "# Define a class to receive the characteristics of each line detection\n",
    "# Define conversions in x and y from pixels space to meters\n",
    "YM_PER_PIX = 30/720 # meters per pixel in y dimension\n",
    "XM_PER_PIX = 3.7/700 # meters per pixel in x dimension\n",
    "IMSHAPE = 1280, 720 # hardcoded\n",
    "\n",
    "class Line():\n",
    "    def __init__(self):\n",
    "        # was the line detected in the last iteration?\n",
    "        self.detected = False  \n",
    "        # x values of the last n fits of the line\n",
    "        self.recent_xfitted = [] \n",
    "        #average x values of the fitted line over the last n iterations\n",
    "        self.bestx = None\n",
    "        \n",
    "        #polynomial coefficients averaged over the last n iterations\n",
    "        self.best_fit = None  \n",
    "        #polynomial coefficients for the most recent fit\n",
    "        self.current_fit = [np.array([False])]  \n",
    "        \n",
    "#         #distance in meters of vehicle center from the line\n",
    "#         self.line_base_pos = None \n",
    "        #difference in fit coefficients between last and new fits\n",
    "    \n",
    "        self.diffs = np.array([0,0,0], dtype='float') \n",
    "\n",
    "        #y values for detected line pixels\n",
    "        self.ally = np.linspace(0, IMSHAPE[0]-1, IMSHAPE[0])\n",
    "        \n",
    "    def update_fit(self, fit):\n",
    "        self.current_fit = fit\n",
    "        self.best_fit = fit\n",
    "    \n",
    "    @property\n",
    "    def allx(self):\n",
    "        #x values for detected line pixels\n",
    "        return self.best_fit[0]*self.ally**2 + self.best_fit[1]*self.ally + self.best_fit[2]\n",
    "    \n",
    "    @property\n",
    "    def radius_of_curvature(self):\n",
    "        #radius of curvature of the line in some units\n",
    "        y_eval = np.max(self.ally)\n",
    "        # Fit new polynomials to x,y in world space\n",
    "        fit_cr = np.polyfit(self.ally*YM_PER_PIX, self.allx*XM_PER_PIX, 2)\n",
    "        # Calculate the new radii of curvature\n",
    "        curverad = ((1 + (2*fit_cr[0]*y_eval*YM_PER_PIX + fit_cr[1])**2)**1.5) / np.absolute(2*fit_cr[0])\n",
    "        return curverad\n",
    "        \n",
    "    @property\n",
    "    def line_base_pos(self):\n",
    "        #position in pixels of line at bottom of image\n",
    "        y_eval = np.max(self.ally)\n",
    "        return self.best_fit[0]*y_eval**2 + self.best_fit[1]*y_eval + self.best_fit[2]"
   ]
  },
  {
   "cell_type": "code",
   "execution_count": 178,
   "metadata": {
    "collapsed": false
   },
   "outputs": [],
   "source": [
    "left_line = Line()\n",
    "right_line = Line()\n",
    "\n",
    "# camera calibration and trasform matrices\n",
    "mtx, dist = pickle.load(open('camera_cal.pkl', 'rb'))\n",
    "\n",
    "def process_image(image):\n",
    "    # undistort image\n",
    "    image = cv2.undistort(image, mtx, dist, None, mtx)\n",
    "    \n",
    "    binary_img = get_binary_img(image)\n",
    "    binary_warped_img = warper(binary_img)\n",
    "    \n",
    "    if not left_line.detected or not right_line.detected:\n",
    "        left_fit, right_fit, _ = fit_lane_lines(binary_warped_img)\n",
    "        left_line.update_fit(left_fit)\n",
    "        right_line.update_fit(right_fit)\n",
    "\n",
    "    out_img = draw_detected_lane(image, binary_warped_img,\n",
    "         left_line.ally, left_line.allx, right_line.allx)    \n",
    "\n",
    "    # Write Text\n",
    "    avg_curverad = (left_line.radius_of_curvature +  right_line.radius_of_curvature) / 2\n",
    "    rad_str = 'Radius of Curvature = %dm' % np.round(avg_curverad)\n",
    "    \n",
    "    lane_center_px = (left_line.line_base_pos + right_line.line_base_pos) / 2\n",
    "    lane_center_offset_px = lane_center_px - (binary_warped_img.shape[1] / 2)\n",
    "    lane_center_offset_m = lane_center_offset_px * XM_PER_PIX\n",
    "    offset_str = 'Vehicle is %.2fm off center of lane' % lane_center_offset_m\n",
    "    \n",
    "    cv2.putText(out_img, rad_str, (40, 75), cv2.FONT_HERSHEY_SIMPLEX,\n",
    "        1, (255, 255, 255), 2)\n",
    "    cv2.putText(out_img, offset_str, (40, 150), cv2.FONT_HERSHEY_SIMPLEX,\n",
    "        1, (255, 255, 255), 2)\n",
    "    \n",
    "    return out_img"
   ]
  },
  {
   "cell_type": "code",
   "execution_count": 181,
   "metadata": {
    "collapsed": false,
    "scrolled": false
   },
   "outputs": [
    {
     "name": "stdout",
     "output_type": "stream",
     "text": [
      "[MoviePy] >>>> Building video output_images/test.mp4\n",
      "[MoviePy] Writing video output_images/test.mp4\n"
     ]
    },
    {
     "name": "stderr",
     "output_type": "stream",
     "text": [
      "100%|█████████▉| 1260/1261 [12:33<00:00,  1.67it/s]\n"
     ]
    },
    {
     "name": "stdout",
     "output_type": "stream",
     "text": [
      "[MoviePy] Done.\n",
      "[MoviePy] >>>> Video ready: output_images/test.mp4 \n",
      "\n",
      "CPU times: user 13min 37s, sys: 1min 40s, total: 15min 17s\n",
      "Wall time: 12min 34s\n"
     ]
    }
   ],
   "source": [
    "# process vid\n",
    "output_vid = 'output_images/test.mp4'\n",
    "input_clip = VideoFileClip('project_video.mp4')\n",
    "processed_clip = input_clip.fl_image(process_image) #NOTE: this function expects color images!!\n",
    "%time processed_clip.write_videofile(output_vid, audio=False)"
   ]
  },
  {
   "cell_type": "code",
   "execution_count": 182,
   "metadata": {
    "collapsed": false,
    "scrolled": false
   },
   "outputs": [
    {
     "data": {
      "text/html": [
       "\n",
       "<video width=\"960\" height=\"540\" controls>\n",
       "  <source src=\"output_images/test.mp4\">\n",
       "</video>\n"
      ],
      "text/plain": [
       "<IPython.core.display.HTML object>"
      ]
     },
     "execution_count": 182,
     "metadata": {},
     "output_type": "execute_result"
    }
   ],
   "source": [
    "HTML(\"\"\"\n",
    "<video width=\"960\" height=\"540\" controls>\n",
    "  <source src=\"{0}\">\n",
    "</video>\n",
    "\"\"\".format(output_vid))"
   ]
  },
  {
   "cell_type": "code",
   "execution_count": null,
   "metadata": {
    "collapsed": true
   },
   "outputs": [],
   "source": []
  },
  {
   "cell_type": "code",
   "execution_count": null,
   "metadata": {
    "collapsed": true
   },
   "outputs": [],
   "source": []
  },
  {
   "cell_type": "code",
   "execution_count": null,
   "metadata": {
    "collapsed": true
   },
   "outputs": [],
   "source": []
  },
  {
   "cell_type": "code",
   "execution_count": null,
   "metadata": {
    "collapsed": true
   },
   "outputs": [],
   "source": []
  },
  {
   "cell_type": "code",
   "execution_count": null,
   "metadata": {
    "collapsed": true
   },
   "outputs": [],
   "source": []
  },
  {
   "cell_type": "code",
   "execution_count": null,
   "metadata": {
    "collapsed": true
   },
   "outputs": [],
   "source": []
  },
  {
   "cell_type": "code",
   "execution_count": null,
   "metadata": {
    "collapsed": true
   },
   "outputs": [],
   "source": []
  },
  {
   "cell_type": "code",
   "execution_count": 26,
   "metadata": {
    "collapsed": true
   },
   "outputs": [],
   "source": [
    "def get_binary_img(image, ksize=15):\n",
    "    def abs_sobel_thresh(l_channel, orient='x', sobel_kernel=3, thresh=(0, 255)):\n",
    "        # Calculate directional gradient    \n",
    "        # 2) Take the derivative in x or y given orient = 'x' or 'y'\n",
    "        if orient == 'x':\n",
    "            sobel = cv2.Sobel(l_channel, cv2.CV_64F, 1, 0)\n",
    "        elif orient == 'y':\n",
    "            sobel = cv2.Sobel(l_channel, cv2.CV_64F, 0, 1)\n",
    "\n",
    "        # 3) Take the absolute value of the derivative or gradient\n",
    "        abs_sobel = np.absolute(sobel)\n",
    "\n",
    "        # 4) Scale to 8-bit (0 - 255) then convert to type = np.uint8\n",
    "        scaled_sobel = np.uint8(255 * abs_sobel / np.max(abs_sobel))\n",
    "\n",
    "        # 5) Create a mask of 1's where the scaled gradient magnitude \n",
    "                # is > thresh_min and < thresh_max\n",
    "        grad_binary = np.zeros_like(scaled_sobel)\n",
    "        grad_binary[(scaled_sobel >= thresh[0]) & (scaled_sobel <= thresh[1])] = 1\n",
    "\n",
    "        # 6) Return this mask as your binary_output image\n",
    "        return grad_binary\n",
    "\n",
    "    def mag_thresh(l_channel, sobel_kernel=3, mag_thresh=(0, 255)):\n",
    "        # Calculate gradient magnitude\n",
    "        # 2) Take the gradient in x and y separately\n",
    "        sobelx = cv2.Sobel(l_channel, cv2.CV_64F, 1, 0)\n",
    "        sobely = cv2.Sobel(l_channel, cv2.CV_64F, 0, 1)\n",
    "\n",
    "        # 3) Calculate the magnitude \n",
    "        abs_sobel = np.sqrt(np.square(sobelx) + np.square(sobely))\n",
    "\n",
    "        # 4) Scale to 8-bit (0 - 255) and convert to type = np.uint8\n",
    "        scaled_sobel = np.uint8(255 * abs_sobel / np.max(abs_sobel))\n",
    "\n",
    "        # 5) Create a binary mask where mag thresholds are met\n",
    "        mag_binary = np.zeros_like(scaled_sobel)\n",
    "        mag_binary[(scaled_sobel >= mag_thresh[0]) & (scaled_sobel <= mag_thresh[1])] = 1\n",
    "\n",
    "        # 6) Return this mask as your binary_output image\n",
    "        return mag_binary\n",
    "\n",
    "    def dir_threshold(l_channel, sobel_kernel=3, thresh=(0, np.pi/2)):\n",
    "        # Calculate gradient direction\n",
    "        # 2) Take the gradient in x and y separately\n",
    "        sobelx = cv2.Sobel(l_channel, cv2.CV_64F, 1, 0, ksize=sobel_kernel)\n",
    "        sobely = cv2.Sobel(l_channel, cv2.CV_64F, 0, 1, ksize=sobel_kernel)\n",
    "\n",
    "        # 3) Take the absolute value of the x and y gradients\n",
    "        abs_sobelx = np.absolute(sobelx)\n",
    "        abs_sobely = np.absolute(sobely)\n",
    "\n",
    "        # 4) Use np.arctan2(abs_sobely, abs_sobelx) to calculate the direction of the gradient \n",
    "        grad_dir = np.arctan2(abs_sobely, abs_sobelx)\n",
    "\n",
    "        # 5) Create a binary mask where direction thresholds are met\n",
    "        dir_binary = np.zeros_like(grad_dir)\n",
    "        dir_binary[(grad_dir >= thresh[0]) & (grad_dir <= thresh[1])] = 1\n",
    "\n",
    "        # 6) Return this mask as your binary_output image\n",
    "        return dir_binary\n",
    "\n",
    "    def color_threshold(s_channel, thresh=(0, 255)):  \n",
    "        s_binary = np.zeros_like(s_channel)\n",
    "        s_binary[(s_channel >= thresh[0]) & (s_channel <= thresh[1])] = 1\n",
    "\n",
    "        return s_binary\n",
    "\n",
    "    \n",
    "    hls = cv2.cvtColor(image, cv2.COLOR_BGR2HLS)\n",
    "    l_channel = hls[:, :, 1]\n",
    "    s_channel = hls[:, :, 2]\n",
    "\n",
    "    # Apply each of the thresholding functions\n",
    "    gradx = abs_sobel_thresh(l_channel, orient='x', sobel_kernel=ksize, thresh=(20, 100))\n",
    "    grady = abs_sobel_thresh(l_channel, orient='y', sobel_kernel=ksize, thresh=(20, 100))\n",
    "    mag_binary = mag_thresh(l_channel, sobel_kernel=ksize, mag_thresh=(30, 100))\n",
    "    dir_binary = dir_threshold(l_channel, sobel_kernel=ksize, thresh=(0.7, 1.3))\n",
    "    col_binary = color_threshold(s_channel, thresh=(170, 255))\n",
    "\n",
    "    combined_grad = np.zeros_like(dir_binary)\n",
    "    combined_grad[((gradx == 1) & (grady == 1)) | ((mag_binary == 1) & (dir_binary == 1))] = 1\n",
    "    combined = np.zeros_like(combined_grad)\n",
    "    combined[((combined_grad == 1) | (col_binary == 1))] = 1\n",
    "    \n",
    "    return combined"
   ]
  },
  {
   "cell_type": "code",
   "execution_count": 43,
   "metadata": {
    "collapsed": false
   },
   "outputs": [],
   "source": [
    "imshape = (720, 1280) # hardcoded\n",
    "src_points = np.float32([\n",
    "    (0 + 185, imshape[0]),\n",
    "    (imshape[1]/2 - 55, 455),\n",
    "    (imshape[1]/2 + 55, 455),\n",
    "    (imshape[1] - 145, imshape[0])\n",
    "])\n",
    "\n",
    "dest_points = np.float32([\n",
    "    (0 + 325, imshape[0]),\n",
    "    (0 + 325, 0),\n",
    "    (imshape[1] - 325, 0),\n",
    "    (imshape[1] - 325, imshape[0])])\n",
    "\n",
    "def warper(img):\n",
    "    # Compute and apply perpective transform\n",
    "    img_size = (img.shape[1], img.shape[0])\n",
    "    M = cv2.getPerspectiveTransform(src_points, dest_points)\n",
    "    warped = cv2.warpPerspective(img, M, img_size, flags=cv2.INTER_NEAREST)  # keep same size as input image\n",
    "\n",
    "    return warped\n",
    "\n",
    "def unwarper(img):\n",
    "    # Compute and apply perpective transform\n",
    "    img_size = (img.shape[1], img.shape[0])\n",
    "    Minv = cv2.getPerspectiveTransform(dest_points, src_points)\n",
    "    dewarped = cv2.warpPerspective(img, Minv, img_size, flags=cv2.INTER_NEAREST)  # keep same size as input image\n",
    "\n",
    "    return dewarped"
   ]
  },
  {
   "cell_type": "code",
   "execution_count": 50,
   "metadata": {
    "collapsed": true
   },
   "outputs": [],
   "source": [
    "def fit_lane_lines(binary_warped):\n",
    "    # Take a histogram of the bottom half of the image\n",
    "    histogram = np.sum(binary_warped[int(binary_warped.shape[0] / 2 ):,:], axis=0)\n",
    "\n",
    "    # Trim noisy ends from influencing \n",
    "    histogram[:80]= 0\n",
    "    histogram[-80:] = 0\n",
    "    \n",
    "    # Create an output image to draw on and  visualize the result\n",
    "    out_img = np.dstack((binary_warped, binary_warped, binary_warped))*255\n",
    "\n",
    "    # Find the peak of the left and right halves of the histogram\n",
    "    # These will be the starting point for the left and right lines\n",
    "    midpoint = np.int(histogram.shape[0]/2)\n",
    "    leftx_base = np.argmax(histogram[:midpoint])\n",
    "    rightx_base = np.argmax(histogram[midpoint:]) + midpoint\n",
    "\n",
    "    # Choose the number of sliding windows\n",
    "    nwindows = 9\n",
    "    # Set height of windows\n",
    "    window_height = np.int(binary_warped.shape[0]/nwindows)\n",
    "    # Identify the x and y positions of all nonzero pixels in the image\n",
    "    nonzero = binary_warped.nonzero()\n",
    "    nonzeroy = np.array(nonzero[0])\n",
    "    nonzerox = np.array(nonzero[1])\n",
    "    # Current positions to be updated for each window\n",
    "    leftx_current = leftx_base\n",
    "    rightx_current = rightx_base\n",
    "    # Set the width of the windows +/- margin\n",
    "    margin = 75\n",
    "    # Set minimum number of pixels found to recenter window\n",
    "    minpix = 50\n",
    "    # Create empty lists to receive left and right lane pixel indices\n",
    "    left_lane_inds = []\n",
    "    right_lane_inds = []\n",
    "    \n",
    "    \n",
    "    for window in range(nwindows):\n",
    "        # window = 0\n",
    "\n",
    "        # Identify window boundaries in x and y (and right and left)\n",
    "        win_y_low = binary_warped.shape[0] - (window+1)*window_height;\n",
    "        win_y_high = binary_warped.shape[0] - window*window_height;\n",
    "        win_xleft_low = leftx_current - margin;\n",
    "        win_xleft_high = leftx_current + margin;\n",
    "        win_xright_low = rightx_current - margin;\n",
    "        win_xright_high = rightx_current + margin;\n",
    "\n",
    "        # Draw the windows on the visualization image\n",
    "        _ = cv2.rectangle(out_img,(win_xleft_low,win_y_low),(win_xleft_high,win_y_high),(0,255,0), 2);\n",
    "        _ = cv2.rectangle(out_img,(win_xright_low,win_y_low),(win_xright_high,win_y_high),(0,255,0), 2);\n",
    "\n",
    "        # Identify the nonzero pixels in x and y within the window\n",
    "        good_left_inds = (\n",
    "            (nonzeroy >= win_y_low) & (nonzeroy < win_y_high) & \\\n",
    "            (nonzerox >= win_xleft_low) & \\\n",
    "            (nonzerox < win_xleft_high)\n",
    "        ).nonzero()[0];\n",
    "        good_right_inds = (\n",
    "            (nonzeroy >= win_y_low) & \\\n",
    "            (nonzeroy < win_y_high) & \\\n",
    "            (nonzerox >= win_xright_low) & \\\n",
    "            (nonzerox < win_xright_high)\n",
    "        ).nonzero()[0];\n",
    "\n",
    "        # Append these indices to the lists\n",
    "        left_lane_inds.append(good_left_inds);\n",
    "        right_lane_inds.append(good_right_inds);\n",
    "\n",
    "        # If you found > minpix pixels, recenter next window on their mean position\n",
    "        if len(good_left_inds) > minpix:\n",
    "            leftx_current = np.int(np.mean(nonzerox[good_left_inds]));\n",
    "        if len(good_right_inds) > minpix:        \n",
    "            rightx_current = np.int(np.mean(nonzerox[good_right_inds]));\n",
    "            \n",
    "    # Concatenate the arrays of indices\n",
    "    left_lane_inds = np.concatenate(left_lane_inds)\n",
    "    right_lane_inds = np.concatenate(right_lane_inds)\n",
    "\n",
    "    # Extract left and right line pixel positions\n",
    "    leftx = nonzerox[left_lane_inds]\n",
    "    lefty = nonzeroy[left_lane_inds] \n",
    "    rightx = nonzerox[right_lane_inds]\n",
    "    righty = nonzeroy[right_lane_inds] \n",
    "\n",
    "    # Fit a second order polynomial to each\n",
    "    left_fit = np.polyfit(lefty, leftx, 2)\n",
    "    right_fit = np.polyfit(righty, rightx, 2)\n",
    "    \n",
    "    out_img[nonzeroy[left_lane_inds], nonzerox[left_lane_inds]] = [255, 0, 0]\n",
    "    out_img[nonzeroy[right_lane_inds], nonzerox[right_lane_inds]] = [0, 0, 255]\n",
    "    \n",
    "    return left_fit, right_fit, out_img"
   ]
  },
  {
   "cell_type": "code",
   "execution_count": 141,
   "metadata": {
    "collapsed": true
   },
   "outputs": [],
   "source": [
    "def draw_detected_lane(undist, binary_warped, ploty, left_fitx, right_fitx):\n",
    "#     ploty = np.linspace(0, binary_warped.shape[0]-1, binary_warped.shape[0])\n",
    "#     left_fitx = left_fit[0]*ploty**2 + left_fit[1]*ploty + left_fit[2]\n",
    "#     right_fitx = right_fit[0]*ploty**2 + right_fit[1]*ploty + right_fit[2]\n",
    "    \n",
    "    # Create an image to draw the lines on\n",
    "    warp_zero = np.zeros_like(binary_warped).astype(np.uint8)\n",
    "    color_warp = np.dstack((warp_zero, warp_zero, warp_zero))\n",
    "\n",
    "    # Recast the x and y points into usable format for cv2.fillPoly()\n",
    "    pts_left = np.array([np.transpose(np.vstack([left_fitx, ploty]))])\n",
    "    pts_right = np.array([np.flipud(np.transpose(np.vstack([right_fitx, ploty])))])\n",
    "    pts = np.hstack((pts_left, pts_right))\n",
    "\n",
    "    # Draw the lane onto the warped blank image\n",
    "    cv2.fillPoly(color_warp, np.int_([pts]), (0,255, 0));\n",
    "    newwarp = unwarper(color_warp)\n",
    "\n",
    "    # Combine the result with the original image\n",
    "    result = cv2.addWeighted(undist, 1, newwarp, 0.3, 0)\n",
    "    return result"
   ]
  },
  {
   "cell_type": "code",
   "execution_count": 53,
   "metadata": {
    "collapsed": true
   },
   "outputs": [],
   "source": [
    "cv2.line?"
   ]
  },
  {
   "cell_type": "code",
   "execution_count": 61,
   "metadata": {
    "collapsed": false
   },
   "outputs": [],
   "source": [
    "imshape = (720, 1280)\n",
    "ploty = np.linspace(0, imshape[0] - 1, imshape[0])"
   ]
  },
  {
   "cell_type": "code",
   "execution_count": 63,
   "metadata": {
    "collapsed": false
   },
   "outputs": [
    {
     "data": {
      "text/plain": [
       "719"
      ]
     },
     "execution_count": 63,
     "metadata": {},
     "output_type": "execute_result"
    }
   ],
   "source": [
    "len(ploty[:-1])"
   ]
  },
  {
   "cell_type": "code",
   "execution_count": null,
   "metadata": {
    "collapsed": true
   },
   "outputs": [],
   "source": []
  }
 ],
 "metadata": {
  "kernelspec": {
   "display_name": "Python 3",
   "language": "python",
   "name": "python3"
  },
  "language_info": {
   "codemirror_mode": {
    "name": "ipython",
    "version": 3
   },
   "file_extension": ".py",
   "mimetype": "text/x-python",
   "name": "python",
   "nbconvert_exporter": "python",
   "pygments_lexer": "ipython3",
   "version": "3.6.0"
  }
 },
 "nbformat": 4,
 "nbformat_minor": 2
}
